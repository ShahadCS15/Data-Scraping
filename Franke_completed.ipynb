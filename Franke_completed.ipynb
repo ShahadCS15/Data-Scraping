{
 "cells": [
  {
   "cell_type": "code",
   "execution_count": 12,
   "metadata": {},
   "outputs": [],
   "source": [
    "import requests\n",
    "from requests import exceptions\n",
    "from bs4 import BeautifulSoup\n",
    "import urllib3\n",
    "import selenium\n",
    "from selenium import webdriver\n",
    "from selenium.webdriver.common.keys import Keys\n",
    "from selenium.webdriver.chrome.options import Options\n",
    "from selenium.webdriver.common.by import By\n",
    "from selenium.webdriver.support.ui import WebDriverWait\n",
    "from selenium.webdriver.support import expected_conditions as EC\n",
    "import pandas as pd\n",
    "import time"
   ]
  },
  {
   "cell_type": "code",
   "execution_count": 71,
   "metadata": {},
   "outputs": [],
   "source": [
    "urllib3.disable_warnings()"
   ]
  },
  {
   "cell_type": "code",
   "execution_count": 228,
   "metadata": {},
   "outputs": [],
   "source": [
    "def page_driver_this(item_id):\n",
    "    \n",
    "    options = webdriver.ChromeOptions()\n",
    "    driver = webdriver.Chrome('C:\\\\Users\\\\Shahad\\\\Downloads\\\\chromedriver_win32\\\\chromedriver.exe')\n",
    "    #options.headless = True\n",
    "    #driver = webdriver.Chrome('C:\\\\Users\\\\Shahad\\\\Downloads\\\\chromedriver_win32\\\\chromedriver.exe', options=options)  \n",
    "    driver.maximize_window()\n",
    "    driver.get('https://www.franke.com/ae/en/ws/products/product-search/product-explorer-results.html#akCache=true&p=5&t=grid&f=cat2_2')\n",
    "    \n",
    "    try:\n",
    "\n",
    "        search_bar = WebDriverWait(driver, 10).until(\n",
    "            EC.visibility_of_element_located((By.CLASS_NAME, 'pe-search__input'))\n",
    "        )\n",
    "        search_bar.send_keys(item_id)\n",
    "\n",
    "        search_icon = WebDriverWait(driver, 10).until(\n",
    "            EC.presence_of_element_located((By.CLASS_NAME, 'pe-search__button'))\n",
    "        )\n",
    "        search_icon.click()\n",
    "\n",
    "        driver.execute_script(\"window.scrollTo(0, document.body.scrollHeight/1.0)\")\n",
    "\n",
    "        search_btn = WebDriverWait(driver, 10).until(\n",
    "            EC.element_to_be_clickable((By.CLASS_NAME, 'm22-product-teaser-module__link'))\n",
    "        )\n",
    "        search_btn.click()\n",
    "\n",
    "        url = driver.current_url\n",
    "        return url\n",
    "\n",
    "\n",
    "    except:\n",
    "        pass"
   ]
  },
  {
   "cell_type": "code",
   "execution_count": 33,
   "metadata": {},
   "outputs": [],
   "source": [
    "df = pd.read_excel(r'Franke_source.xlsx')"
   ]
  },
  {
   "cell_type": "code",
   "execution_count": 58,
   "metadata": {},
   "outputs": [],
   "source": [
    "def getURLs():\n",
    "    url_lst = []\n",
    "    for i in df.index:\n",
    "        item_url = page_driver_this(str(df['Item Code '][i]))\n",
    "        url_lst.append(item_url)\n",
    "    return url_lst"
   ]
  },
  {
   "cell_type": "code",
   "execution_count": null,
   "metadata": {},
   "outputs": [],
   "source": [
    "urls = getURLs()\n",
    "df['webpage_to_be_scraped'] = urls"
   ]
  },
  {
   "cell_type": "code",
   "execution_count": 62,
   "metadata": {},
   "outputs": [],
   "source": [
    "df.to_excel('Franke_links.xlsx')"
   ]
  },
  {
   "cell_type": "code",
   "execution_count": 69,
   "metadata": {},
   "outputs": [],
   "source": [
    "def create_soup(url):\n",
    "    try:\n",
    "        r = requests.get(url, verify=False)\n",
    "        soup = BeautifulSoup(r.text, 'lxml')\n",
    "        return soup\n",
    "    except:\n",
    "        return 'N/A'"
   ]
  },
  {
   "cell_type": "code",
   "execution_count": 229,
   "metadata": {},
   "outputs": [],
   "source": [
    "soup = create_soup('https://www.franke.com/ae/en/ws/products/dryers/hand-dryers/rodx310_detail.html')"
   ]
  },
  {
   "cell_type": "code",
   "execution_count": 132,
   "metadata": {},
   "outputs": [],
   "source": [
    "def item_name(soup):\n",
    "    try:\n",
    "        name = soup.find('h1', {'class' : 'm19-product-picture-with-options-module-product-top-text-title'}).text.strip()\n",
    "        return name\n",
    "    except:\n",
    "        pass"
   ]
  },
  {
   "cell_type": "code",
   "execution_count": 145,
   "metadata": {},
   "outputs": [],
   "source": [
    "def item_description(soup):\n",
    "    try:\n",
    "        description = soup.find('div', {'class' : 'm19-product-picture-with-options-module-product-top-text'})\n",
    "        description = description.find_next('div').contents[0]\n",
    "        description = str(description).strip()\n",
    "        return description\n",
    "    except:\n",
    "        pass"
   ]
  },
  {
   "cell_type": "code",
   "execution_count": 148,
   "metadata": {},
   "outputs": [],
   "source": [
    "def product_number_table(soup):\n",
    "    try:\n",
    "        body = soup.find('div', {'class' : 'table table--grey'}).find('table').findAll('tr')\n",
    "        inner_dictionary = {}\n",
    "\n",
    "        for row in body:\n",
    "            cols = row.findChildren(recursive=False)\n",
    "            cols = [ele.text.strip() for ele in cols]\n",
    "            inner_dictionary.update({cols[0] : cols[1]})\n",
    "        return inner_dictionary\n",
    "    except:\n",
    "        pass"
   ]
  },
  {
   "cell_type": "code",
   "execution_count": 158,
   "metadata": {},
   "outputs": [],
   "source": [
    "def product_properties_table(soup):\n",
    "    try:\n",
    "        body = soup.find('div', {'class' : 'table table--grey'}).find('table').find_next('table').findAll('tr')\n",
    "        inner_dictionary = {}\n",
    "\n",
    "        for row in body:\n",
    "            cols = row.findChildren(recursive=False)\n",
    "            cols = [ele.text.strip() for ele in cols]\n",
    "            inner_dictionary.update({cols[0] : cols[1]})\n",
    "        return inner_dictionary\n",
    "    except:\n",
    "        pass"
   ]
  },
  {
   "cell_type": "code",
   "execution_count": 168,
   "metadata": {},
   "outputs": [],
   "source": [
    "def get_factsheet(soup):\n",
    "    try:\n",
    "        factsheet = soup.find('a', {'class' : 'm50-product-detail-with-table-module__download__item__description'})\n",
    "        factsheet = factsheet.get('href')\n",
    "        return factsheet\n",
    "    except:\n",
    "        pass"
   ]
  },
  {
   "cell_type": "code",
   "execution_count": 126,
   "metadata": {},
   "outputs": [],
   "source": [
    "def get_files(soup):\n",
    "    try:\n",
    "        titles_lst = []\n",
    "        links_lst = []\n",
    "        files_dic = {}\n",
    "\n",
    "        titles = soup.findAll('a', {'class' : 'm14-accordion-module__navigation__toggler'})\n",
    "        for t in titles:\n",
    "            title = t.text\n",
    "            titles_lst.append(title)\n",
    "\n",
    "        files = soup.findAll('a', {'class' : 'm102-1-download-item-module__item'})\n",
    "        for f in files:\n",
    "            file = f.get('href')\n",
    "            links_lst.append(file)\n",
    "\n",
    "        for n in range(len(links_lst)):\n",
    "            if len(links_lst) > len(titles_lst):\n",
    "                titles_lst.append('RFA Files')\n",
    "            files_dic.update({ titles_lst[n] : links_lst[n] })\n",
    "            \n",
    "        return files_dic\n",
    "    \n",
    "    except:\n",
    "        pass"
   ]
  },
  {
   "cell_type": "code",
   "execution_count": 134,
   "metadata": {},
   "outputs": [],
   "source": [
    "df['soup'] = df['webpage_to_be_scraped'].apply(lambda x: create_soup(x))"
   ]
  },
  {
   "cell_type": "code",
   "execution_count": 136,
   "metadata": {},
   "outputs": [],
   "source": [
    "df['item name'] = df['soup'].apply(lambda x: item_name(x))"
   ]
  },
  {
   "cell_type": "code",
   "execution_count": 146,
   "metadata": {},
   "outputs": [],
   "source": [
    "df['item description'] = df['soup'].apply(lambda x: item_description(x))"
   ]
  },
  {
   "cell_type": "code",
   "execution_count": 149,
   "metadata": {},
   "outputs": [],
   "source": [
    "df['product_number_table'] = df['soup'].apply(lambda x: product_number_table(x))"
   ]
  },
  {
   "cell_type": "code",
   "execution_count": 153,
   "metadata": {},
   "outputs": [],
   "source": [
    "df_temp = df['product_number_table'].apply(pd.Series)"
   ]
  },
  {
   "cell_type": "code",
   "execution_count": 155,
   "metadata": {},
   "outputs": [],
   "source": [
    "df = pd.concat([df, df_temp], axis=1)"
   ]
  },
  {
   "cell_type": "code",
   "execution_count": 159,
   "metadata": {},
   "outputs": [],
   "source": [
    "df['product_properties_table'] = df['soup'].apply(lambda x: product_properties_table(x))"
   ]
  },
  {
   "cell_type": "code",
   "execution_count": 161,
   "metadata": {},
   "outputs": [],
   "source": [
    "df_temp = df['product_properties_table'].apply(pd.Series)"
   ]
  },
  {
   "cell_type": "code",
   "execution_count": 163,
   "metadata": {},
   "outputs": [],
   "source": [
    "df = pd.concat([df, df_temp], axis=1)"
   ]
  },
  {
   "cell_type": "code",
   "execution_count": 171,
   "metadata": {},
   "outputs": [],
   "source": [
    "df['Factsheet'] = df['soup'].apply(lambda x: get_factsheet(x))"
   ]
  },
  {
   "cell_type": "code",
   "execution_count": 173,
   "metadata": {},
   "outputs": [],
   "source": [
    "df['files'] = df['soup'].apply(lambda x: get_files(x))"
   ]
  },
  {
   "cell_type": "code",
   "execution_count": 175,
   "metadata": {},
   "outputs": [],
   "source": [
    "df_temp = df['files'].apply(pd.Series)"
   ]
  },
  {
   "cell_type": "code",
   "execution_count": 177,
   "metadata": {},
   "outputs": [],
   "source": [
    "df = pd.concat([df, df_temp], axis=1)"
   ]
  },
  {
   "cell_type": "code",
   "execution_count": 179,
   "metadata": {},
   "outputs": [],
   "source": [
    "df.to_excel('Franke_complete.xlsx')"
   ]
  },
  {
   "cell_type": "code",
   "execution_count": null,
   "metadata": {},
   "outputs": [],
   "source": []
  }
 ],
 "metadata": {
  "kernelspec": {
   "display_name": "Python 3",
   "language": "python",
   "name": "python3"
  },
  "language_info": {
   "codemirror_mode": {
    "name": "ipython",
    "version": 3
   },
   "file_extension": ".py",
   "mimetype": "text/x-python",
   "name": "python",
   "nbconvert_exporter": "python",
   "pygments_lexer": "ipython3",
   "version": "3.7.6"
  }
 },
 "nbformat": 4,
 "nbformat_minor": 4
}
